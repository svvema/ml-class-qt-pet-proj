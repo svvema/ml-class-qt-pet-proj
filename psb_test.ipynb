{
  "nbformat": 4,
  "nbformat_minor": 0,
  "metadata": {
    "colab": {
      "name": "psb_test.ipynb",
      "provenance": [],
      "authorship_tag": "ABX9TyO5ZVfkOJhRNI+NIX1VQNjA",
      "include_colab_link": true
    },
    "kernelspec": {
      "name": "python3",
      "display_name": "Python 3"
    },
    "language_info": {
      "name": "python"
    }
  },
  "cells": [
    {
      "cell_type": "markdown",
      "metadata": {
        "id": "view-in-github",
        "colab_type": "text"
      },
      "source": [
        "<a href=\"https://colab.research.google.com/github/svvema/ml-class-qt-pet-proj/blob/master/psb_test.ipynb\" target=\"_parent\"><img src=\"https://colab.research.google.com/assets/colab-badge.svg\" alt=\"Open In Colab\"/></a>"
      ]
    },
    {
      "cell_type": "markdown",
      "metadata": {
        "id": "6WE7GQDf9R04"
      },
      "source": [
        "### Импортируем библиотеки"
      ]
    },
    {
      "cell_type": "code",
      "metadata": {
        "id": "5WFf1E_NF5fx"
      },
      "source": [
        "import pandas as pd\n",
        "from matplotlib import pyplot as plt\n",
        "from sklearn.linear_model import LogisticRegression\n",
        "from sklearn.model_selection import train_test_split\n",
        "import numpy as np"
      ],
      "execution_count": null,
      "outputs": []
    },
    {
      "cell_type": "code",
      "metadata": {
        "colab": {
          "base_uri": "https://localhost:8080/"
        },
        "id": "Q1mj3OXPGEer",
        "outputId": "4789e2b6-4b71-4a74-9635-4d095372506a"
      },
      "source": [
        "from google.colab import drive\n",
        "drive.mount('/content/drive')"
      ],
      "execution_count": null,
      "outputs": [
        {
          "output_type": "stream",
          "name": "stdout",
          "text": [
            "Drive already mounted at /content/drive; to attempt to forcibly remount, call drive.mount(\"/content/drive\", force_remount=True).\n"
          ]
        }
      ]
    },
    {
      "cell_type": "markdown",
      "metadata": {
        "id": "UI29NfWZ5xLe"
      },
      "source": [
        "### Подгружаем данные"
      ]
    },
    {
      "cell_type": "code",
      "metadata": {
        "id": "goumM_5aGFDz"
      },
      "source": [
        "DATA_PATH = '/content/drive/MyDrive/pb_test/'"
      ],
      "execution_count": null,
      "outputs": []
    },
    {
      "cell_type": "code",
      "metadata": {
        "id": "nraPwZF8GJqz"
      },
      "source": [
        "df = pd.read_csv(DATA_PATH + 'task.csv', sep=';')\n",
        "#df = pd.read_excel(DATA_PATH + 'task.xlsx')"
      ],
      "execution_count": null,
      "outputs": []
    },
    {
      "cell_type": "code",
      "metadata": {
        "id": "sZHE8-3iGxkK"
      },
      "source": [
        "#df.to_csv(DATA_PATH + 'task.csv', sep=';', index=False)"
      ],
      "execution_count": null,
      "outputs": []
    },
    {
      "cell_type": "code",
      "metadata": {
        "colab": {
          "base_uri": "https://localhost:8080/",
          "height": 206
        },
        "id": "losBhbVVGwlL",
        "outputId": "692f7adc-58b4-42b9-d1ea-f6f9dbe233b3"
      },
      "source": [
        "df.head()"
      ],
      "execution_count": null,
      "outputs": [
        {
          "output_type": "execute_result",
          "data": {
            "text/html": [
              "<div>\n",
              "<style scoped>\n",
              "    .dataframe tbody tr th:only-of-type {\n",
              "        vertical-align: middle;\n",
              "    }\n",
              "\n",
              "    .dataframe tbody tr th {\n",
              "        vertical-align: top;\n",
              "    }\n",
              "\n",
              "    .dataframe thead th {\n",
              "        text-align: right;\n",
              "    }\n",
              "</style>\n",
              "<table border=\"1\" class=\"dataframe\">\n",
              "  <thead>\n",
              "    <tr style=\"text-align: right;\">\n",
              "      <th></th>\n",
              "      <th>regNum</th>\n",
              "      <th>target</th>\n",
              "      <th>price</th>\n",
              "      <th>duration</th>\n",
              "      <th>revenue_post</th>\n",
              "      <th>days_from_first_sign_post_history</th>\n",
              "      <th>contracts_all_post_history</th>\n",
              "      <th>contracts_terminated_post_history</th>\n",
              "      <th>distance</th>\n",
              "    </tr>\n",
              "  </thead>\n",
              "  <tbody>\n",
              "    <tr>\n",
              "      <th>0</th>\n",
              "      <td>X1</td>\n",
              "      <td>0</td>\n",
              "      <td>2400000.00</td>\n",
              "      <td>341</td>\n",
              "      <td>-99</td>\n",
              "      <td>745</td>\n",
              "      <td>8</td>\n",
              "      <td>0</td>\n",
              "      <td>0</td>\n",
              "    </tr>\n",
              "    <tr>\n",
              "      <th>1</th>\n",
              "      <td>X2</td>\n",
              "      <td>0</td>\n",
              "      <td>1228666.00</td>\n",
              "      <td>201</td>\n",
              "      <td>42165000</td>\n",
              "      <td>717</td>\n",
              "      <td>39</td>\n",
              "      <td>0</td>\n",
              "      <td>101</td>\n",
              "    </tr>\n",
              "    <tr>\n",
              "      <th>2</th>\n",
              "      <td>X3</td>\n",
              "      <td>0</td>\n",
              "      <td>1120009.68</td>\n",
              "      <td>364</td>\n",
              "      <td>420621000</td>\n",
              "      <td>1078</td>\n",
              "      <td>26</td>\n",
              "      <td>0</td>\n",
              "      <td>566</td>\n",
              "    </tr>\n",
              "    <tr>\n",
              "      <th>3</th>\n",
              "      <td>X4</td>\n",
              "      <td>0</td>\n",
              "      <td>1752594.92</td>\n",
              "      <td>109</td>\n",
              "      <td>525862000</td>\n",
              "      <td>83</td>\n",
              "      <td>4</td>\n",
              "      <td>0</td>\n",
              "      <td>566</td>\n",
              "    </tr>\n",
              "    <tr>\n",
              "      <th>4</th>\n",
              "      <td>X5</td>\n",
              "      <td>0</td>\n",
              "      <td>1098260.00</td>\n",
              "      <td>126</td>\n",
              "      <td>-99</td>\n",
              "      <td>853</td>\n",
              "      <td>45</td>\n",
              "      <td>0</td>\n",
              "      <td>1395</td>\n",
              "    </tr>\n",
              "  </tbody>\n",
              "</table>\n",
              "</div>"
            ],
            "text/plain": [
              "  regNum  target  ...  contracts_terminated_post_history  distance\n",
              "0     X1       0  ...                                  0         0\n",
              "1     X2       0  ...                                  0       101\n",
              "2     X3       0  ...                                  0       566\n",
              "3     X4       0  ...                                  0       566\n",
              "4     X5       0  ...                                  0      1395\n",
              "\n",
              "[5 rows x 9 columns]"
            ]
          },
          "metadata": {},
          "execution_count": 6
        }
      ]
    },
    {
      "cell_type": "code",
      "metadata": {
        "colab": {
          "base_uri": "https://localhost:8080/"
        },
        "id": "frFAlVhKIY9M",
        "outputId": "e433e1fd-6691-473d-b63e-5fde881cb108"
      },
      "source": [
        "df.info()"
      ],
      "execution_count": null,
      "outputs": [
        {
          "output_type": "stream",
          "name": "stdout",
          "text": [
            "<class 'pandas.core.frame.DataFrame'>\n",
            "RangeIndex: 912082 entries, 0 to 912081\n",
            "Data columns (total 9 columns):\n",
            " #   Column                             Non-Null Count   Dtype  \n",
            "---  ------                             --------------   -----  \n",
            " 0   regNum                             912082 non-null  object \n",
            " 1   target                             912082 non-null  int64  \n",
            " 2   price                              912082 non-null  float64\n",
            " 3   duration                           912082 non-null  int64  \n",
            " 4   revenue_post                       912082 non-null  int64  \n",
            " 5   days_from_first_sign_post_history  912082 non-null  int64  \n",
            " 6   contracts_all_post_history         912082 non-null  int64  \n",
            " 7   contracts_terminated_post_history  912082 non-null  int64  \n",
            " 8   distance                           912082 non-null  int64  \n",
            "dtypes: float64(1), int64(7), object(1)\n",
            "memory usage: 62.6+ MB\n"
          ]
        }
      ]
    },
    {
      "cell_type": "code",
      "metadata": {
        "colab": {
          "base_uri": "https://localhost:8080/",
          "height": 300
        },
        "id": "XE_8akN0Icbb",
        "outputId": "e17b8655-aaa0-4e01-a7fe-4df64212c098"
      },
      "source": [
        "df.describe()"
      ],
      "execution_count": null,
      "outputs": [
        {
          "output_type": "execute_result",
          "data": {
            "text/html": [
              "<div>\n",
              "<style scoped>\n",
              "    .dataframe tbody tr th:only-of-type {\n",
              "        vertical-align: middle;\n",
              "    }\n",
              "\n",
              "    .dataframe tbody tr th {\n",
              "        vertical-align: top;\n",
              "    }\n",
              "\n",
              "    .dataframe thead th {\n",
              "        text-align: right;\n",
              "    }\n",
              "</style>\n",
              "<table border=\"1\" class=\"dataframe\">\n",
              "  <thead>\n",
              "    <tr style=\"text-align: right;\">\n",
              "      <th></th>\n",
              "      <th>target</th>\n",
              "      <th>price</th>\n",
              "      <th>duration</th>\n",
              "      <th>revenue_post</th>\n",
              "      <th>days_from_first_sign_post_history</th>\n",
              "      <th>contracts_all_post_history</th>\n",
              "      <th>contracts_terminated_post_history</th>\n",
              "      <th>distance</th>\n",
              "    </tr>\n",
              "  </thead>\n",
              "  <tbody>\n",
              "    <tr>\n",
              "      <th>count</th>\n",
              "      <td>912082.000000</td>\n",
              "      <td>9.120820e+05</td>\n",
              "      <td>912082.000000</td>\n",
              "      <td>9.120820e+05</td>\n",
              "      <td>912082.000000</td>\n",
              "      <td>912082.000000</td>\n",
              "      <td>912082.000000</td>\n",
              "      <td>912082.000000</td>\n",
              "    </tr>\n",
              "    <tr>\n",
              "      <th>mean</th>\n",
              "      <td>0.009419</td>\n",
              "      <td>3.326742e+06</td>\n",
              "      <td>188.376557</td>\n",
              "      <td>2.265072e+08</td>\n",
              "      <td>352.005383</td>\n",
              "      <td>78.686315</td>\n",
              "      <td>-36.171548</td>\n",
              "      <td>425.130580</td>\n",
              "    </tr>\n",
              "    <tr>\n",
              "      <th>std</th>\n",
              "      <td>0.096594</td>\n",
              "      <td>1.021238e+07</td>\n",
              "      <td>127.963678</td>\n",
              "      <td>5.400914e+08</td>\n",
              "      <td>370.017655</td>\n",
              "      <td>303.310510</td>\n",
              "      <td>47.706111</td>\n",
              "      <td>1002.127487</td>\n",
              "    </tr>\n",
              "    <tr>\n",
              "      <th>min</th>\n",
              "      <td>0.000000</td>\n",
              "      <td>0.000000e+00</td>\n",
              "      <td>0.000000</td>\n",
              "      <td>-1.640000e+05</td>\n",
              "      <td>-99.000000</td>\n",
              "      <td>-99.000000</td>\n",
              "      <td>-99.000000</td>\n",
              "      <td>0.000000</td>\n",
              "    </tr>\n",
              "    <tr>\n",
              "      <th>25%</th>\n",
              "      <td>0.000000</td>\n",
              "      <td>3.879520e+05</td>\n",
              "      <td>87.000000</td>\n",
              "      <td>-9.900000e+01</td>\n",
              "      <td>46.000000</td>\n",
              "      <td>2.000000</td>\n",
              "      <td>-99.000000</td>\n",
              "      <td>0.000000</td>\n",
              "    </tr>\n",
              "    <tr>\n",
              "      <th>50%</th>\n",
              "      <td>0.000000</td>\n",
              "      <td>1.257471e+06</td>\n",
              "      <td>178.000000</td>\n",
              "      <td>2.556400e+07</td>\n",
              "      <td>276.000000</td>\n",
              "      <td>12.000000</td>\n",
              "      <td>0.000000</td>\n",
              "      <td>0.000000</td>\n",
              "    </tr>\n",
              "    <tr>\n",
              "      <th>75%</th>\n",
              "      <td>0.000000</td>\n",
              "      <td>2.762734e+06</td>\n",
              "      <td>280.000000</td>\n",
              "      <td>1.486150e+08</td>\n",
              "      <td>599.000000</td>\n",
              "      <td>54.000000</td>\n",
              "      <td>0.000000</td>\n",
              "      <td>372.000000</td>\n",
              "    </tr>\n",
              "    <tr>\n",
              "      <th>max</th>\n",
              "      <td>1.000000</td>\n",
              "      <td>1.098166e+09</td>\n",
              "      <td>43828.000000</td>\n",
              "      <td>4.493357e+09</td>\n",
              "      <td>1490.000000</td>\n",
              "      <td>4631.000000</td>\n",
              "      <td>58.000000</td>\n",
              "      <td>7913.000000</td>\n",
              "    </tr>\n",
              "  </tbody>\n",
              "</table>\n",
              "</div>"
            ],
            "text/plain": [
              "              target  ...       distance\n",
              "count  912082.000000  ...  912082.000000\n",
              "mean        0.009419  ...     425.130580\n",
              "std         0.096594  ...    1002.127487\n",
              "min         0.000000  ...       0.000000\n",
              "25%         0.000000  ...       0.000000\n",
              "50%         0.000000  ...       0.000000\n",
              "75%         0.000000  ...     372.000000\n",
              "max         1.000000  ...    7913.000000\n",
              "\n",
              "[8 rows x 8 columns]"
            ]
          },
          "metadata": {},
          "execution_count": 8
        }
      ]
    },
    {
      "cell_type": "markdown",
      "metadata": {
        "id": "kv8EwNAn9Zhn"
      },
      "source": [
        "Уровень расторжения контракта = 0.9419%"
      ]
    },
    {
      "cell_type": "markdown",
      "metadata": {
        "id": "qQehnSbW6Zt_"
      },
      "source": [
        "### Сформируем трейновую и тестовую выборки"
      ]
    },
    {
      "cell_type": "code",
      "metadata": {
        "id": "--u9JCq2LafM"
      },
      "source": [
        "X = df.drop('target', axis=1)\n",
        "y = df['target']"
      ],
      "execution_count": null,
      "outputs": []
    },
    {
      "cell_type": "code",
      "metadata": {
        "id": "UQuEaORULUUr"
      },
      "source": [
        "X_train, X_test, y_train, y_test = train_test_split(X, y, test_size=0.3, random_state=42, stratify=y)"
      ],
      "execution_count": null,
      "outputs": []
    },
    {
      "cell_type": "code",
      "metadata": {
        "id": "MCnOGxK14nIo"
      },
      "source": [
        "test_idx = X_test['regNum']"
      ],
      "execution_count": null,
      "outputs": []
    },
    {
      "cell_type": "code",
      "metadata": {
        "id": "-jvocMYP405H"
      },
      "source": [
        "X_train.drop('regNum', axis=1, inplace=True)\n",
        "X_test.drop('regNum', axis=1, inplace=True)"
      ],
      "execution_count": null,
      "outputs": []
    },
    {
      "cell_type": "code",
      "metadata": {
        "colab": {
          "base_uri": "https://localhost:8080/"
        },
        "id": "chcrozFnLwu7",
        "outputId": "3cddc1f8-a24b-4abf-b55b-fc4d8b2d8c70"
      },
      "source": [
        "y_train.mean()"
      ],
      "execution_count": null,
      "outputs": [
        {
          "output_type": "execute_result",
          "data": {
            "text/plain": [
              "0.009419585030785159"
            ]
          },
          "metadata": {},
          "execution_count": 13
        }
      ]
    },
    {
      "cell_type": "code",
      "metadata": {
        "colab": {
          "base_uri": "https://localhost:8080/"
        },
        "id": "-6weSQTEL07z",
        "outputId": "9af8bf76-374f-4a52-8bf3-fd53d957ac54"
      },
      "source": [
        "y_test.mean()"
      ],
      "execution_count": null,
      "outputs": [
        {
          "output_type": "execute_result",
          "data": {
            "text/plain": [
              "0.009417999086340795"
            ]
          },
          "metadata": {},
          "execution_count": 14
        }
      ]
    },
    {
      "cell_type": "markdown",
      "metadata": {
        "id": "O4OC9qwy6myX"
      },
      "source": [
        "## WOE"
      ]
    },
    {
      "cell_type": "code",
      "metadata": {
        "id": "QNR1PQRKIWQK"
      },
      "source": [
        "!pip install git+https://github.com/Falconwatch/riskpy.git@master"
      ],
      "execution_count": null,
      "outputs": []
    },
    {
      "cell_type": "code",
      "metadata": {
        "colab": {
          "base_uri": "https://localhost:8080/"
        },
        "id": "XoogkOYOKxe8",
        "outputId": "fd7a4aec-763b-4451-ab85-ae7fde5cc45d"
      },
      "source": [
        "from riskpy.modeling.binning import Binner\n",
        "from riskpy.graphs.graphs import binning_barchart"
      ],
      "execution_count": null,
      "outputs": [
        {
          "output_type": "stream",
          "name": "stderr",
          "text": [
            "/usr/local/lib/python3.7/dist-packages/statsmodels/tools/_testing.py:19: FutureWarning: pandas.util.testing is deprecated. Use the functions in the public API at pandas.testing instead.\n",
            "  import pandas.util.testing as tm\n"
          ]
        }
      ]
    },
    {
      "cell_type": "code",
      "metadata": {
        "id": "RGd7NgI_Mmxb"
      },
      "source": [
        "X_train['target'] = y_train\n",
        "X_test['target'] = y_test"
      ],
      "execution_count": null,
      "outputs": []
    },
    {
      "cell_type": "code",
      "metadata": {
        "id": "EaBBkGl1Kyar"
      },
      "source": [
        "binner_ip = Binner()\n",
        "bins = binner_ip.fit(X_train, 'target')\n",
        "X_train_woe = binner_ip.transform(X_train)\n",
        "X_test_woe = binner_ip.transform(X_test)"
      ],
      "execution_count": null,
      "outputs": []
    },
    {
      "cell_type": "code",
      "metadata": {
        "colab": {
          "base_uri": "https://localhost:8080/",
          "height": 1000
        },
        "id": "R7oJSbu2NMxr",
        "outputId": "e58b8da5-120d-4220-8066-457418a2c314"
      },
      "source": [
        "binning_barchart(bins)"
      ],
      "execution_count": null,
      "outputs": [
        {
          "output_type": "display_data",
          "data": {
            "image/png": "[encoded data removed]",
            "text/plain": [
              "<Figure size 432x288 with 2 Axes>"
            ]
          },
          "metadata": {
            "needs_background": "light"
          }
        },
        {
          "output_type": "display_data",
          "data": {
            "image/png": "[encoded data removed]",
            "text/plain": [
              "<Figure size 432x288 with 2 Axes>"
            ]
          },
          "metadata": {
            "needs_background": "light"
          }
        },
        {
          "output_type": "display_data",
          "data": {
            "image/png": "[encoded data removed]",
            "text/plain": [
              "<Figure size 432x288 with 2 Axes>"
            ]
          },
          "metadata": {
            "needs_background": "light"
          }
        },
        {
          "output_type": "display_data",
          "data": {
            "image/png": "[encoded data removed]",
            "text/plain": [
              "<Figure size 432x288 with 2 Axes>"
            ]
          },
          "metadata": {
            "needs_background": "light"
          }
        },
        {
          "output_type": "display_data",
          "data": {
            "image/png": "[encoded data removed]",
            "text/plain": [
              "<Figure size 432x288 with 2 Axes>"
            ]
          },
          "metadata": {
            "needs_background": "light"
          }
        },
        {
          "output_type": "display_data",
          "data": {
            "image/png": "[encoded data removed]",
            "text/plain": [
              "<Figure size 432x288 with 2 Axes>"
            ]
          },
          "metadata": {
            "needs_background": "light"
          }
        },
        {
          "output_type": "display_data",
          "data": {
            "image/png": "[encoded data removed]",
            "text/plain": [
              "<Figure size 432x288 with 2 Axes>"
            ]
          },
          "metadata": {
            "needs_background": "light"
          }
        }
      ]
    },
    {
      "cell_type": "markdown",
      "metadata": {
        "id": "9S_2hvy863gf"
      },
      "source": [
        "## GINI"
      ]
    },
    {
      "cell_type": "code",
      "metadata": {
        "colab": {
          "base_uri": "https://localhost:8080/"
        },
        "id": "oSfzjhpHN6LT",
        "outputId": "a0adfa1e-d207-405a-c88a-0ba15d4f3d40"
      },
      "source": [
        "!pip install mlxtend --upgrade --no-deps\n",
        "from mlxtend.feature_selection import SequentialFeatureSelector as SFS\n",
        "from sklearn.model_selection import StratifiedKFold\n",
        "from sklearn.metrics import roc_auc_score\n",
        "from riskpy.modeling.modeler import Modeler"
      ],
      "execution_count": null,
      "outputs": [
        {
          "output_type": "stream",
          "name": "stdout",
          "text": [
            "Requirement already satisfied: mlxtend in /usr/local/lib/python3.7/dist-packages (0.19.0)\n"
          ]
        }
      ]
    },
    {
      "cell_type": "code",
      "metadata": {
        "id": "Fo0dsN1Tmrcn"
      },
      "source": [
        "modeler = Modeler(train_dataset=X_train_woe, test_dataset=X_test_woe, oot_dataset=None, target='target')"
      ],
      "execution_count": null,
      "outputs": []
    },
    {
      "cell_type": "code",
      "metadata": {
        "colab": {
          "base_uri": "https://localhost:8080/",
          "height": 269
        },
        "id": "vQSYFZHImrZS",
        "outputId": "e89b2089-aa47-43ca-bd1b-b9e171218ff6"
      },
      "source": [
        "gini_ofi=modeler.ExploreOneFactorImportance(X_train_woe.drop(['target'], axis=1).columns)\n",
        "\n",
        "gini_ofi"
      ],
      "execution_count": null,
      "outputs": [
        {
          "output_type": "execute_result",
          "data": {
            "text/html": [
              "<div>\n",
              "<style scoped>\n",
              "    .dataframe tbody tr th:only-of-type {\n",
              "        vertical-align: middle;\n",
              "    }\n",
              "\n",
              "    .dataframe tbody tr th {\n",
              "        vertical-align: top;\n",
              "    }\n",
              "\n",
              "    .dataframe thead th {\n",
              "        text-align: right;\n",
              "    }\n",
              "</style>\n",
              "<table border=\"1\" class=\"dataframe\">\n",
              "  <thead>\n",
              "    <tr style=\"text-align: right;\">\n",
              "      <th></th>\n",
              "      <th>TRAIN</th>\n",
              "      <th>TEST</th>\n",
              "    </tr>\n",
              "  </thead>\n",
              "  <tbody>\n",
              "    <tr>\n",
              "      <th>price_woe</th>\n",
              "      <td>0.040617</td>\n",
              "      <td>0.037410</td>\n",
              "    </tr>\n",
              "    <tr>\n",
              "      <th>duration_woe</th>\n",
              "      <td>0.052865</td>\n",
              "      <td>0.053819</td>\n",
              "    </tr>\n",
              "    <tr>\n",
              "      <th>revenue_post_woe</th>\n",
              "      <td>0.296747</td>\n",
              "      <td>0.293930</td>\n",
              "    </tr>\n",
              "    <tr>\n",
              "      <th>days_from_first_sign_post_history_woe</th>\n",
              "      <td>0.232726</td>\n",
              "      <td>0.237246</td>\n",
              "    </tr>\n",
              "    <tr>\n",
              "      <th>contracts_all_post_history_woe</th>\n",
              "      <td>0.162105</td>\n",
              "      <td>0.167776</td>\n",
              "    </tr>\n",
              "    <tr>\n",
              "      <th>contracts_terminated_post_history_woe</th>\n",
              "      <td>0.103160</td>\n",
              "      <td>0.090793</td>\n",
              "    </tr>\n",
              "    <tr>\n",
              "      <th>distance_woe</th>\n",
              "      <td>0.189813</td>\n",
              "      <td>0.196052</td>\n",
              "    </tr>\n",
              "  </tbody>\n",
              "</table>\n",
              "</div>"
            ],
            "text/plain": [
              "                                          TRAIN      TEST\n",
              "price_woe                              0.040617  0.037410\n",
              "duration_woe                           0.052865  0.053819\n",
              "revenue_post_woe                       0.296747  0.293930\n",
              "days_from_first_sign_post_history_woe  0.232726  0.237246\n",
              "contracts_all_post_history_woe         0.162105  0.167776\n",
              "contracts_terminated_post_history_woe  0.103160  0.090793\n",
              "distance_woe                           0.189813  0.196052"
            ]
          },
          "metadata": {},
          "execution_count": 22
        }
      ]
    },
    {
      "cell_type": "markdown",
      "metadata": {
        "id": "kvhwTwio69Hv"
      },
      "source": [
        "Удаляем признаки с коэффициентом Джини меньше 5%"
      ]
    },
    {
      "cell_type": "code",
      "metadata": {
        "id": "ueN188XJ0GS2"
      },
      "source": [
        "features = list(X_train_woe.drop(['target'], axis=1).columns)\n",
        "features.remove('price_woe')"
      ],
      "execution_count": null,
      "outputs": []
    },
    {
      "cell_type": "markdown",
      "metadata": {
        "id": "zntYJIJY7IrP"
      },
      "source": [
        "## Корреляция"
      ]
    },
    {
      "cell_type": "code",
      "metadata": {
        "colab": {
          "base_uri": "https://localhost:8080/",
          "height": 238
        },
        "id": "I9PeMth20Xa-",
        "outputId": "3e7497c7-e9c4-4031-e964-21b5ccf68feb"
      },
      "source": [
        "X_train_woe[features].corr()"
      ],
      "execution_count": null,
      "outputs": [
        {
          "output_type": "execute_result",
          "data": {
            "text/html": [
              "<div>\n",
              "<style scoped>\n",
              "    .dataframe tbody tr th:only-of-type {\n",
              "        vertical-align: middle;\n",
              "    }\n",
              "\n",
              "    .dataframe tbody tr th {\n",
              "        vertical-align: top;\n",
              "    }\n",
              "\n",
              "    .dataframe thead th {\n",
              "        text-align: right;\n",
              "    }\n",
              "</style>\n",
              "<table border=\"1\" class=\"dataframe\">\n",
              "  <thead>\n",
              "    <tr style=\"text-align: right;\">\n",
              "      <th></th>\n",
              "      <th>duration_woe</th>\n",
              "      <th>revenue_post_woe</th>\n",
              "      <th>days_from_first_sign_post_history_woe</th>\n",
              "      <th>contracts_all_post_history_woe</th>\n",
              "      <th>contracts_terminated_post_history_woe</th>\n",
              "      <th>distance_woe</th>\n",
              "    </tr>\n",
              "  </thead>\n",
              "  <tbody>\n",
              "    <tr>\n",
              "      <th>duration_woe</th>\n",
              "      <td>1.000000</td>\n",
              "      <td>-0.041880</td>\n",
              "      <td>0.065823</td>\n",
              "      <td>-0.007013</td>\n",
              "      <td>0.102646</td>\n",
              "      <td>-0.093079</td>\n",
              "    </tr>\n",
              "    <tr>\n",
              "      <th>revenue_post_woe</th>\n",
              "      <td>-0.041880</td>\n",
              "      <td>1.000000</td>\n",
              "      <td>0.321690</td>\n",
              "      <td>0.215941</td>\n",
              "      <td>0.212296</td>\n",
              "      <td>-0.013629</td>\n",
              "    </tr>\n",
              "    <tr>\n",
              "      <th>days_from_first_sign_post_history_woe</th>\n",
              "      <td>0.065823</td>\n",
              "      <td>0.321690</td>\n",
              "      <td>1.000000</td>\n",
              "      <td>0.452119</td>\n",
              "      <td>0.720671</td>\n",
              "      <td>-0.059836</td>\n",
              "    </tr>\n",
              "    <tr>\n",
              "      <th>contracts_all_post_history_woe</th>\n",
              "      <td>-0.007013</td>\n",
              "      <td>0.215941</td>\n",
              "      <td>0.452119</td>\n",
              "      <td>1.000000</td>\n",
              "      <td>0.424147</td>\n",
              "      <td>-0.074604</td>\n",
              "    </tr>\n",
              "    <tr>\n",
              "      <th>contracts_terminated_post_history_woe</th>\n",
              "      <td>0.102646</td>\n",
              "      <td>0.212296</td>\n",
              "      <td>0.720671</td>\n",
              "      <td>0.424147</td>\n",
              "      <td>1.000000</td>\n",
              "      <td>-0.103171</td>\n",
              "    </tr>\n",
              "    <tr>\n",
              "      <th>distance_woe</th>\n",
              "      <td>-0.093079</td>\n",
              "      <td>-0.013629</td>\n",
              "      <td>-0.059836</td>\n",
              "      <td>-0.074604</td>\n",
              "      <td>-0.103171</td>\n",
              "      <td>1.000000</td>\n",
              "    </tr>\n",
              "  </tbody>\n",
              "</table>\n",
              "</div>"
            ],
            "text/plain": [
              "                                       duration_woe  ...  distance_woe\n",
              "duration_woe                               1.000000  ...     -0.093079\n",
              "revenue_post_woe                          -0.041880  ...     -0.013629\n",
              "days_from_first_sign_post_history_woe      0.065823  ...     -0.059836\n",
              "contracts_all_post_history_woe            -0.007013  ...     -0.074604\n",
              "contracts_terminated_post_history_woe      0.102646  ...     -0.103171\n",
              "distance_woe                              -0.093079  ...      1.000000\n",
              "\n",
              "[6 rows x 6 columns]"
            ]
          },
          "metadata": {},
          "execution_count": 24
        }
      ]
    },
    {
      "cell_type": "markdown",
      "metadata": {
        "id": "TDMkfuOG7f1w"
      },
      "source": [
        "Удаляем признаки с корреляцией выше 0.5"
      ]
    },
    {
      "cell_type": "code",
      "metadata": {
        "id": "uIC1pIi00lYm"
      },
      "source": [
        "features.remove('contracts_terminated_post_history_woe')"
      ],
      "execution_count": null,
      "outputs": []
    },
    {
      "cell_type": "markdown",
      "metadata": {
        "id": "j8hAVy6y7afv"
      },
      "source": [
        "Проверим что все коррелирующие признаки были убраны"
      ]
    },
    {
      "cell_type": "code",
      "metadata": {
        "id": "ixQ0RC77OHl8"
      },
      "source": [
        "y_train_woe = X_train_woe['target']\n",
        "y_test_woe = X_test_woe['target']\n",
        "X_train_woe.drop(['target'], axis = 1, inplace = True)\n",
        "X_test_woe.drop(['target'], axis = 1, inplace = True)"
      ],
      "execution_count": null,
      "outputs": []
    },
    {
      "cell_type": "code",
      "metadata": {
        "id": "hF9WmZQHRiq8"
      },
      "source": [
        "FEATURE_COUNT = X_train_woe[features].shape[1]\n",
        "N_SPLITS = 3"
      ],
      "execution_count": null,
      "outputs": []
    },
    {
      "cell_type": "code",
      "metadata": {
        "colab": {
          "base_uri": "https://localhost:8080/"
        },
        "id": "RLt40_buVgOL",
        "outputId": "e49333c8-acc5-4516-f86f-d87cf92754fc"
      },
      "source": [
        "search = {}\n",
        "for i in range(1,FEATURE_COUNT + 1):\n",
        "  logreg = LogisticRegression(random_state = 42, solver = 'liblinear', penalty = 'l1')\n",
        "  skf = StratifiedKFold(n_splits = N_SPLITS, shuffle = True, random_state = 42)\n",
        "\n",
        "  selector = SFS(logreg, \n",
        "            k_features = i , \n",
        "            forward = True,  \n",
        "            scoring ='roc_auc',\n",
        "            cv = skf)\n",
        "\n",
        "  selector = selector.fit(X_train_woe, y_train_woe)\n",
        "  search[i] = selector.subsets_[i]['avg_score']\n",
        "search"
      ],
      "execution_count": null,
      "outputs": [
        {
          "output_type": "execute_result",
          "data": {
            "text/plain": [
              "{1: 0.6483740870057001,\n",
              " 2: 0.6913321924578885,\n",
              " 3: 0.7065062471705675,\n",
              " 4: 0.7164750504913084,\n",
              " 5: 0.7201664787219131}"
            ]
          },
          "metadata": {},
          "execution_count": 28
        }
      ]
    },
    {
      "cell_type": "code",
      "metadata": {
        "id": "DLAPJfF_PO9D"
      },
      "source": [
        "X_train_woe_final = X_train_woe[features]\n",
        "X_test_woe_final = X_test_woe[features]"
      ],
      "execution_count": null,
      "outputs": []
    },
    {
      "cell_type": "markdown",
      "metadata": {
        "id": "s00rFnjc5OYO"
      },
      "source": [
        "### Подбираем коэффициент регуляризации"
      ]
    },
    {
      "cell_type": "code",
      "metadata": {
        "id": "Wx0vL3QsPo0z"
      },
      "source": [
        "cv_scores_train = []\n",
        "cv_scores_test = []\n",
        "alphas = np.arange(0.05, 0.3, 0.02)\n",
        "kfold = StratifiedKFold(n_splits = 3, shuffle = True, random_state = 42)\n",
        "for alpha in alphas:\n",
        "    scores_one_alpha_train = []\n",
        "    scores_one_alpha_test = []\n",
        "    coeff = []\n",
        "    for train_index, test_index in kfold.split(X_train_woe_final, y_train_woe):\n",
        "        \n",
        "        X_train, X_test = X_train_woe_final.iloc[train_index,:], X_train_woe_final.iloc[test_index,:]\n",
        "        y_train, y_test = y_train_woe.iloc[train_index], y_train_woe.iloc[test_index]\n",
        "        logreg = LogisticRegression(random_state = 42, penalty = 'l2', C = alpha)\n",
        "        logreg.fit(X_train, y_train)\n",
        "        pred_train = logreg.predict_proba(X_train)[:, 1]\n",
        "        pred_test = logreg.predict_proba(X_test)[:, 1]\n",
        "        scores_one_alpha_train.append(roc_auc_score(y_train, pred_train))\n",
        "        scores_one_alpha_test.append(roc_auc_score(y_test, pred_test))\n",
        "        coeff.append(logreg.coef_)\n",
        "    mean_coeff = np.mean(coeff, axis = 0)\n",
        "    cv_scores_train.append(np.mean(scores_one_alpha_train))\n",
        "    cv_scores_test.append(np.mean(scores_one_alpha_test))"
      ],
      "execution_count": null,
      "outputs": []
    },
    {
      "cell_type": "code",
      "metadata": {
        "colab": {
          "base_uri": "https://localhost:8080/",
          "height": 404
        },
        "id": "Fxjth5lnP6rb",
        "outputId": "24da2bda-73ab-4912-93ba-fc4dd3dbc7c3"
      },
      "source": [
        "plt.plot(alphas, cv_scores_train, label = 'cv_train_score')\n",
        "plt.plot(alphas, cv_scores_test, label = 'cv_test_score')\n",
        "plt.gcf().set_size_inches((12,6))\n",
        "plt.grid()\n",
        "plt.legend()\n",
        "plt.title('Зависимость ROC AUC от коэффициента регуляризации')\n",
        "plt.xlabel('Коэффициент регуляризации')\n",
        "plt.ylabel('ROC AUC')\n",
        "plt.show()"
      ],
      "execution_count": null,
      "outputs": [
        {
          "output_type": "display_data",
          "data": {
            "image/png": "[encoded data removed]",
            "text/plain": [
              "<Figure size 864x432 with 1 Axes>"
            ]
          },
          "metadata": {
            "needs_background": "light"
          }
        }
      ]
    },
    {
      "cell_type": "code",
      "metadata": {
        "colab": {
          "base_uri": "https://localhost:8080/"
        },
        "id": "57aBzqddP92T",
        "outputId": "e1ee1978-e13f-494b-ffad-3d8bb09d5afe"
      },
      "source": [
        "c_koef = round(alphas[np.argmax(cv_scores_test)],3)\n",
        "print(\"Наилучший коэффициент регуляризации из рассмотренных:\", c_koef)"
      ],
      "execution_count": null,
      "outputs": [
        {
          "output_type": "stream",
          "name": "stdout",
          "text": [
            "Наилучший коэффициент регуляризации из рассмотренных: 0.23\n"
          ]
        }
      ]
    },
    {
      "cell_type": "markdown",
      "metadata": {
        "id": "C7byOBQQ72Kv"
      },
      "source": [
        "Обучаем финальную модель на всем трейне"
      ]
    },
    {
      "cell_type": "code",
      "metadata": {
        "colab": {
          "base_uri": "https://localhost:8080/"
        },
        "id": "mQU-7a3VQB79",
        "outputId": "dae9fc2a-fbe9-40e4-e149-38c7bc71f690"
      },
      "source": [
        "logreg = LogisticRegression(random_state = 42, penalty = 'l2', C = c_koef)\n",
        "logreg.fit(X_train_woe_final, y_train_woe)\n",
        "y_pred = logreg.predict_proba(X_test_woe_final)[:,1]\n",
        "print(\"ROC AUC val:\", roc_auc_score(y_test_woe, y_pred))"
      ],
      "execution_count": null,
      "outputs": [
        {
          "output_type": "stream",
          "name": "stdout",
          "text": [
            "ROC AUC val: 0.7233214091372807\n"
          ]
        }
      ]
    },
    {
      "cell_type": "markdown",
      "metadata": {
        "id": "NJNgjBdg8GkO"
      },
      "source": [
        "Подготовим для нашего теста скоринговую карту таким образом, что чем больше скор-балл, тем «лучше» контракт, то есть меньше вероятность его расторжения, чем меньше скор-балл, тем «хуже» контракт, то есть больше вероятность его расторжения"
      ]
    },
    {
      "cell_type": "code",
      "metadata": {
        "colab": {
          "base_uri": "https://localhost:8080/",
          "height": 423
        },
        "id": "BzyMj0KATIIL",
        "outputId": "298e08d3-ab02-447e-8d93-9f8acd6bd3b5"
      },
      "source": [
        "pd.DataFrame({'regNum': test_idx.values, 'SCORE':logreg.predict_proba(X_test_woe_final)[:,0]})"
      ],
      "execution_count": null,
      "outputs": [
        {
          "output_type": "execute_result",
          "data": {
            "text/html": [
              "<div>\n",
              "<style scoped>\n",
              "    .dataframe tbody tr th:only-of-type {\n",
              "        vertical-align: middle;\n",
              "    }\n",
              "\n",
              "    .dataframe tbody tr th {\n",
              "        vertical-align: top;\n",
              "    }\n",
              "\n",
              "    .dataframe thead th {\n",
              "        text-align: right;\n",
              "    }\n",
              "</style>\n",
              "<table border=\"1\" class=\"dataframe\">\n",
              "  <thead>\n",
              "    <tr style=\"text-align: right;\">\n",
              "      <th></th>\n",
              "      <th>regNum</th>\n",
              "      <th>SCORE</th>\n",
              "    </tr>\n",
              "  </thead>\n",
              "  <tbody>\n",
              "    <tr>\n",
              "      <th>0</th>\n",
              "      <td>X473107</td>\n",
              "      <td>0.995126</td>\n",
              "    </tr>\n",
              "    <tr>\n",
              "      <th>1</th>\n",
              "      <td>X213625</td>\n",
              "      <td>0.992498</td>\n",
              "    </tr>\n",
              "    <tr>\n",
              "      <th>2</th>\n",
              "      <td>X156519</td>\n",
              "      <td>0.990742</td>\n",
              "    </tr>\n",
              "    <tr>\n",
              "      <th>3</th>\n",
              "      <td>X111825</td>\n",
              "      <td>0.997516</td>\n",
              "    </tr>\n",
              "    <tr>\n",
              "      <th>4</th>\n",
              "      <td>X311678</td>\n",
              "      <td>0.998213</td>\n",
              "    </tr>\n",
              "    <tr>\n",
              "      <th>...</th>\n",
              "      <td>...</td>\n",
              "      <td>...</td>\n",
              "    </tr>\n",
              "    <tr>\n",
              "      <th>273620</th>\n",
              "      <td>X494856</td>\n",
              "      <td>0.995271</td>\n",
              "    </tr>\n",
              "    <tr>\n",
              "      <th>273621</th>\n",
              "      <td>X735940</td>\n",
              "      <td>0.960322</td>\n",
              "    </tr>\n",
              "    <tr>\n",
              "      <th>273622</th>\n",
              "      <td>X95847</td>\n",
              "      <td>0.989656</td>\n",
              "    </tr>\n",
              "    <tr>\n",
              "      <th>273623</th>\n",
              "      <td>X179111</td>\n",
              "      <td>0.973937</td>\n",
              "    </tr>\n",
              "    <tr>\n",
              "      <th>273624</th>\n",
              "      <td>X217321</td>\n",
              "      <td>0.985778</td>\n",
              "    </tr>\n",
              "  </tbody>\n",
              "</table>\n",
              "<p>273625 rows × 2 columns</p>\n",
              "</div>"
            ],
            "text/plain": [
              "         regNum     SCORE\n",
              "0       X473107  0.995126\n",
              "1       X213625  0.992498\n",
              "2       X156519  0.990742\n",
              "3       X111825  0.997516\n",
              "4       X311678  0.998213\n",
              "...         ...       ...\n",
              "273620  X494856  0.995271\n",
              "273621  X735940  0.960322\n",
              "273622   X95847  0.989656\n",
              "273623  X179111  0.973937\n",
              "273624  X217321  0.985778\n",
              "\n",
              "[273625 rows x 2 columns]"
            ]
          },
          "metadata": {},
          "execution_count": 36
        }
      ]
    }
  ]
}